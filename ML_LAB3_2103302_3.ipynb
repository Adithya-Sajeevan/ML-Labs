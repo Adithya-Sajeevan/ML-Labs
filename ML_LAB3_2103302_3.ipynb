{
  "nbformat": 4,
  "nbformat_minor": 0,
  "metadata": {
    "colab": {
      "provenance": []
    },
    "kernelspec": {
      "name": "python3",
      "display_name": "Python 3"
    },
    "language_info": {
      "name": "python"
    }
  },
  "cells": [
    {
      "cell_type": "code",
      "execution_count": null,
      "metadata": {
        "id": "Mhm91wwa7c4V"
      },
      "outputs": [],
      "source": [
        "import numpy as np"
      ]
    },
    {
      "cell_type": "code",
      "source": [
        "n = 2\n",
        "Y = np.array([0.9, 0.1])\n",
        "y = np.random.binomial(n=1, p=Y[1], size=n)\n",
        "print(y)"
      ],
      "metadata": {
        "colab": {
          "base_uri": "https://localhost:8080/"
        },
        "id": "gjEUd9QvT3bV",
        "outputId": "4c6297a3-3ff6-45b8-e307-c5a161b13c8d"
      },
      "execution_count": null,
      "outputs": [
        {
          "output_type": "stream",
          "name": "stdout",
          "text": [
            "[0 0]\n"
          ]
        }
      ]
    },
    {
      "cell_type": "code",
      "source": [
        "F = np.array([[0.95, 0.1], [0.05, 0.9]])\n",
        "# F[i][j] = P(X = i | Y = j)\n",
        "print(F)"
      ],
      "metadata": {
        "colab": {
          "base_uri": "https://localhost:8080/"
        },
        "id": "nU9TUrJsVwcL",
        "outputId": "82fd3f02-87f1-4403-e4d0-029b2c62c916"
      },
      "execution_count": null,
      "outputs": [
        {
          "output_type": "stream",
          "name": "stdout",
          "text": [
            "[[0.95 0.1 ]\n",
            " [0.05 0.9 ]]\n"
          ]
        }
      ]
    },
    {
      "cell_type": "code",
      "source": [
        "X = []\n",
        "for i in {0,1}:\n",
        "  p_x = 0\n",
        "  for j in {0,1}:\n",
        "    p_x += F[i][j]*Y[j]\n",
        "  X.append(p_x)\n",
        "# X[i] = P(X = i) = sum( P(X = i | Y = j)*P(Y = j) for j in {0,1} )\n",
        "print(X)"
      ],
      "metadata": {
        "colab": {
          "base_uri": "https://localhost:8080/"
        },
        "id": "tquyxTNyXxiN",
        "outputId": "51b20ba3-1bbd-4575-9524-770506f1b0e4"
      },
      "execution_count": null,
      "outputs": [
        {
          "output_type": "stream",
          "name": "stdout",
          "text": [
            "[0.865, 0.135]\n"
          ]
        }
      ]
    },
    {
      "cell_type": "code",
      "source": [
        "x = np.random.binomial(n=1, p=X[1], size=n)\n",
        "print(x)"
      ],
      "metadata": {
        "colab": {
          "base_uri": "https://localhost:8080/"
        },
        "id": "4I67c3kDxIbC",
        "outputId": "423e7fae-ac35-413f-a767-2dde08113338"
      },
      "execution_count": null,
      "outputs": [
        {
          "output_type": "stream",
          "name": "stdout",
          "text": [
            "[0 0]\n"
          ]
        }
      ]
    },
    {
      "cell_type": "code",
      "source": [
        "Y_given_X_equals_1 = np.empty(2)\n",
        "Y_given_X_equals_1[0] = F[1][0]*Y[0] / (F[1][0]*Y[0] + F[1][1]*Y[1])\n",
        "Y_given_X_equals_1[1] = F[1][1]*Y[1] / (F[1][0]*Y[0] + F[1][1]*Y[1])\n",
        "print(Y_given_X_equals_1)"
      ],
      "metadata": {
        "colab": {
          "base_uri": "https://localhost:8080/"
        },
        "id": "XjOJF28maMCD",
        "outputId": "18bbb063-0529-4a3e-a5ee-8352aa5a1759"
      },
      "execution_count": null,
      "outputs": [
        {
          "output_type": "stream",
          "name": "stdout",
          "text": [
            "[0.33333333 0.66666667]\n"
          ]
        }
      ]
    },
    {
      "cell_type": "code",
      "source": [
        "h_B = np.empty(2, int)\n",
        "h_B[0] = np.where(F[0][1]*Y[1] > F[0][0]*Y[0], 1, 0)\n",
        "h_B[1] = np.where(F[1][1]*Y[1] > F[1][0]*Y[0], 1, 0)\n",
        "print(h_B)"
      ],
      "metadata": {
        "colab": {
          "base_uri": "https://localhost:8080/"
        },
        "id": "MS3ujuo0nNsg",
        "outputId": "3559dfa5-04df-423f-8891-781c2d74a619"
      },
      "execution_count": null,
      "outputs": [
        {
          "output_type": "stream",
          "name": "stdout",
          "text": [
            "[0 1]\n"
          ]
        }
      ]
    },
    {
      "cell_type": "code",
      "source": [
        "R = np.mean((y- h_B)**2)\n",
        "print(f'Risk = {R}')"
      ],
      "metadata": {
        "colab": {
          "base_uri": "https://localhost:8080/"
        },
        "id": "L9nDVa7C16SQ",
        "outputId": "d8e6dc37-02e8-406c-ba31-f158777e752e"
      },
      "execution_count": null,
      "outputs": [
        {
          "output_type": "stream",
          "name": "stdout",
          "text": [
            "Risk = 0.5\n"
          ]
        }
      ]
    },
    {
      "cell_type": "code",
      "source": [
        "false_positive = np.sum((h_B == 1) & (y == 0))\n",
        "false_negative = np.sum((h_B == 0) & (y == 1))\n",
        "print(f'False positive = {false_positive}')\n",
        "print(f'False negative = {false_negative}')"
      ],
      "metadata": {
        "colab": {
          "base_uri": "https://localhost:8080/"
        },
        "id": "9FDJGDuB-Jr_",
        "outputId": "b1d543ad-4210-4bdd-caa9-fa7030f5cae6"
      },
      "execution_count": null,
      "outputs": [
        {
          "output_type": "stream",
          "name": "stdout",
          "text": [
            "False positive = 1\n",
            "False negative = 0\n"
          ]
        }
      ]
    }
  ]
}
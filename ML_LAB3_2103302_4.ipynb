{
  "nbformat": 4,
  "nbformat_minor": 0,
  "metadata": {
    "colab": {
      "provenance": []
    },
    "kernelspec": {
      "name": "python3",
      "display_name": "Python 3"
    },
    "language_info": {
      "name": "python"
    }
  },
  "cells": [
    {
      "cell_type": "code",
      "execution_count": null,
      "metadata": {
        "id": "tVvMwBP23Uqi"
      },
      "outputs": [],
      "source": [
        "import numpy as np\n",
        "from scipy.stats import norm"
      ]
    },
    {
      "cell_type": "code",
      "source": [
        "n = 100\n",
        "p1 = 0.1\n",
        "p0 = 0.9\n",
        "x = np.random.binomial(n=1, p=p1, size=n)\n",
        "print(x)"
      ],
      "metadata": {
        "id": "z0lsuNoZ5na8",
        "colab": {
          "base_uri": "https://localhost:8080/"
        },
        "outputId": "ec72c0d6-23a6-4c25-fc70-3a7b1e568651"
      },
      "execution_count": null,
      "outputs": [
        {
          "output_type": "stream",
          "name": "stdout",
          "text": [
            "[0 0 0 0 0 1 0 1 0 0 0 0 0 0 0 0 0 0 0 0 0 1 1 0 0 0 0 0 1 0 0 0 0 0 1 0 0\n",
            " 0 0 1 0 0 1 0 0 1 0 0 0 0 0 0 0 0 0 0 0 0 0 0 0 0 0 0 0 0 0 0 0 0 0 0 0 0\n",
            " 0 0 0 0 0 0 0 0 0 0 0 0 0 0 0 0 0 0 0 0 0 0 0 0 0 0]\n"
          ]
        }
      ]
    },
    {
      "cell_type": "code",
      "source": [
        "normals = []\n",
        "for i in x:\n",
        "  if i == 0:\n",
        "    element = np.random.normal(loc=-1, scale=1)\n",
        "  else:\n",
        "    element = np.random.normal(loc=1, scale=1)\n",
        "  normals.append(element)\n",
        "normals = np.array(normals)\n",
        "print(normals)"
      ],
      "metadata": {
        "colab": {
          "base_uri": "https://localhost:8080/"
        },
        "id": "EsBCG_F2RWq0",
        "outputId": "3becf6a7-430c-433e-ce53-10a90165dfb4"
      },
      "execution_count": null,
      "outputs": [
        {
          "output_type": "stream",
          "name": "stdout",
          "text": [
            "[-1.97776131 -2.32785859  1.3150014  -0.37768638  0.95982554 -1.3472688\n",
            " -0.24448435  0.25857462 -1.26358648 -0.05989666 -2.08123765  1.24573074\n",
            " -0.12834995 -2.0813296   0.65520844 -1.64417356 -1.27858608 -1.34105722\n",
            " -1.519557   -2.55521416  0.08287428  2.84789142  1.2488944  -1.38572473\n",
            " -0.88598626  0.0414937  -1.28701696  0.06381832  0.65413464 -3.19137592\n",
            " -1.62272696 -1.78489224  0.08640043  0.70274205  2.43471233 -0.80625724\n",
            "  0.25438885  0.40227034 -1.90987614  3.03805861 -2.05702724  0.17130356\n",
            "  2.0327897  -1.50076621 -0.17333844  2.58261656 -0.35832894 -0.96997046\n",
            " -0.33999449  0.78883403 -0.97497476  0.11271139 -0.66923599 -1.50398426\n",
            "  0.67785766 -2.52217753 -2.44830494 -0.45849788 -1.42548401 -1.31410041\n",
            " -1.48509629 -1.18916356 -2.25406054  1.02097525 -1.44482243 -3.3187916\n",
            " -0.54985304  0.22194723  0.09534669 -1.52687102 -1.20287683 -1.47868319\n",
            " -1.0929019  -1.37467795 -3.11350755 -2.61566116  0.75978723 -0.08991974\n",
            " -1.15373294 -0.97848927 -2.85767821 -0.28407971 -1.36391254 -0.95133359\n",
            " -1.21844575 -1.11698912 -1.29762459 -0.47008546 -0.84588899 -3.3335921\n",
            " -1.22901693 -1.71444559 -2.23528253 -1.46697846 -1.37577539 -3.29563792\n",
            "  1.25693042 -1.34629369 -2.13449631 -1.16350767]\n"
          ]
        }
      ]
    },
    {
      "cell_type": "code",
      "source": [
        "Bin = []\n",
        "for i in normals:\n",
        "  if (p1 * norm.pdf(i, loc=1, scale=1) > p0 * norm.pdf(i, loc=-1, scale=1)):\n",
        "    Bin.append(1)\n",
        "  else:\n",
        "    Bin.append(0)\n",
        "Bin = np.array(Bin)\n",
        "print(Bin)"
      ],
      "metadata": {
        "colab": {
          "base_uri": "https://localhost:8080/"
        },
        "id": "cFIdr1wtQOhq",
        "outputId": "fbde2843-2d64-4f06-ea0d-0da5f31fa144"
      },
      "execution_count": null,
      "outputs": [
        {
          "output_type": "stream",
          "name": "stdout",
          "text": [
            "[0 0 1 0 0 0 0 0 0 0 0 1 0 0 0 0 0 0 0 0 0 1 1 0 0 0 0 0 0 0 0 0 0 0 1 0 0\n",
            " 0 0 1 0 0 1 0 0 1 0 0 0 0 0 0 0 0 0 0 0 0 0 0 0 0 0 0 0 0 0 0 0 0 0 0 0 0\n",
            " 0 0 0 0 0 0 0 0 0 0 0 0 0 0 0 0 0 0 0 0 0 0 1 0 0 0]\n"
          ]
        }
      ]
    },
    {
      "cell_type": "code",
      "source": [
        "R = np.count_nonzero(x != Bin)/n\n",
        "print(R)"
      ],
      "metadata": {
        "colab": {
          "base_uri": "https://localhost:8080/"
        },
        "id": "3-YtbhRSSXtK",
        "outputId": "fd26567f-26c8-4d70-e86f-60c240387bba"
      },
      "execution_count": null,
      "outputs": [
        {
          "output_type": "stream",
          "name": "stdout",
          "text": [
            "0.09\n"
          ]
        }
      ]
    }
  ]
}
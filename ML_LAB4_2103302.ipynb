{
  "nbformat": 4,
  "nbformat_minor": 0,
  "metadata": {
    "colab": {
      "provenance": []
    },
    "kernelspec": {
      "name": "python3",
      "display_name": "Python 3"
    },
    "language_info": {
      "name": "python"
    }
  },
  "cells": [
    {
      "cell_type": "code",
      "execution_count": null,
      "metadata": {
        "id": "c_uu5JMNab8y"
      },
      "outputs": [],
      "source": [
        "import numpy as np\n",
        "from math import comb\n",
        "np.set_printoptions(suppress=True, precision=10)"
      ]
    },
    {
      "cell_type": "code",
      "source": [
        "c, k, n = 5, 10, 10\n",
        "# c = number of coins\n",
        "# k = number of times a coin is chosen\n",
        "# n = number of tosses by the coin\n",
        "M = np.random.randint(2, size=(k, n))\n",
        "print(M)\n",
        "# 0 represents tails and 1 represents heads\n",
        "# the information about which coin is chosen and tossed is unknown"
      ],
      "metadata": {
        "colab": {
          "base_uri": "https://localhost:8080/"
        },
        "id": "NFyGZs2Twkds",
        "outputId": "a5fef9b4-98fa-4e71-d75a-a9344fba97eb"
      },
      "execution_count": null,
      "outputs": [
        {
          "output_type": "stream",
          "name": "stdout",
          "text": [
            "[[0 0 1 1 0 0 0 1 0 1]\n",
            " [1 0 1 0 0 0 0 0 1 0]\n",
            " [0 0 0 0 1 0 1 1 0 0]\n",
            " [1 0 0 0 1 1 1 1 1 1]\n",
            " [0 1 1 0 1 0 0 0 0 1]\n",
            " [1 1 1 0 0 1 1 1 0 0]\n",
            " [1 0 1 0 1 1 0 0 0 1]\n",
            " [0 1 1 0 1 0 0 1 1 0]\n",
            " [0 0 1 1 0 1 1 1 1 0]\n",
            " [0 1 1 1 0 1 0 1 0 0]]\n"
          ]
        }
      ]
    },
    {
      "cell_type": "code",
      "source": [
        "Heads = np.array([np.sum(M[i]) for i in range(k)])\n",
        "print(Heads)\n",
        "# Heads consist of number of heads occured in the tosses of each time a coin is chosen"
      ],
      "metadata": {
        "colab": {
          "base_uri": "https://localhost:8080/"
        },
        "id": "2QkcJtnE2Crb",
        "outputId": "9043f8a6-a1c8-49eb-bc94-e564837ae94f"
      },
      "execution_count": null,
      "outputs": [
        {
          "output_type": "stream",
          "name": "stdout",
          "text": [
            "[4 3 3 7 4 6 5 5 6 5]\n"
          ]
        }
      ]
    },
    {
      "cell_type": "code",
      "source": [
        "Theta = np.random.rand(c)\n",
        "print(Theta)\n",
        "# Theta consists of initial bias of each of the coins"
      ],
      "metadata": {
        "colab": {
          "base_uri": "https://localhost:8080/"
        },
        "id": "qUAQUbQ_xPkV",
        "outputId": "9283d064-0fea-4396-cc97-c7912aa109c8"
      },
      "execution_count": null,
      "outputs": [
        {
          "output_type": "stream",
          "name": "stdout",
          "text": [
            "[0.3963798995 0.0005358744 0.203764281  0.9155402201 0.457756323 ]\n"
          ]
        }
      ]
    },
    {
      "cell_type": "code",
      "source": [
        "Pi = np.random.rand(c)\n",
        "Pi /= np.sum(Pi)\n",
        "print(Pi)\n",
        "# Pi consists of the probability of each coin being chosen\n",
        "# Pi = P(Coin)"
      ],
      "metadata": {
        "colab": {
          "base_uri": "https://localhost:8080/"
        },
        "id": "NeQRNjrvx7DX",
        "outputId": "f180280e-0b2c-4ec4-cc17-d8187a579d78"
      },
      "execution_count": null,
      "outputs": [
        {
          "output_type": "stream",
          "name": "stdout",
          "text": [
            "[0.0550183007 0.1758957726 0.2395225968 0.2290640109 0.3004993191]\n"
          ]
        }
      ]
    },
    {
      "cell_type": "code",
      "source": [
        "Binom = np.zeros((k, c))\n",
        "# Binom consists of probability of each event given a coin is chosen for each, calculated using Binomial Probability\n",
        "# Binom = P(E | Coin)\n",
        "Prob = np.zeros((k, c))\n",
        "# Prob consists of probability of coin being chosen given the event has happened, calculated using Bayes Theorem\n",
        "# Prob = P(Coin | E)\n",
        "_Theta = np.zeros(c)\n",
        "# _Theta consists of new bias of each coin calculated\n",
        "move = True"
      ],
      "metadata": {
        "id": "dnufbCZy4lwt"
      },
      "execution_count": null,
      "outputs": []
    },
    {
      "cell_type": "code",
      "source": [
        "itr = 0\n",
        "print(f'itr:{itr}->   Theta = {Theta}')\n",
        "while move == True:\n",
        "  itr += 1\n",
        "  for i in range(k):\n",
        "    h = Heads[i]\n",
        "    Binom[i] = comb(n, h) * Theta**h * (1 - Theta)**(n - h)\n",
        "    Prob[i] = Binom[i]*Pi / (np.sum(Binom[i]*Pi))\n",
        "  for j in range(c):\n",
        "    _Theta[j] = Heads@Binom.T[j] / (n*np.sum(Binom.T[j]))\n",
        "  if np.array_equal(Theta, _Theta):\n",
        "    move = False\n",
        "  Theta = _Theta\n",
        "  print(f'itr:{itr}->   Theta = {Theta}')"
      ],
      "metadata": {
        "colab": {
          "base_uri": "https://localhost:8080/"
        },
        "id": "sf6ArGSCzM5a",
        "outputId": "24e39b64-65bd-416e-8e88-52adc1a6816b"
      },
      "execution_count": null,
      "outputs": [
        {
          "output_type": "stream",
          "name": "stdout",
          "text": [
            "itr:0->   Theta = [0.3963798995 0.0005358744 0.203764281  0.9155402201 0.457756323 ]\n",
            "itr:1->   Theta = [0.4397542135 0.3000939213 0.3567742677 0.668179187  0.4682097149]\n",
            "itr:2->   Theta = [0.4598596472 0.3962026456 0.4215579285 0.5633237896 0.4730523263]\n"
          ]
        }
      ]
    }
  ]
}